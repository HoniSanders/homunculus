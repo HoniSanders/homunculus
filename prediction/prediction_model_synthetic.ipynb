{
 "cells": [
  {
   "cell_type": "code",
   "execution_count": 1,
   "metadata": {
    "collapsed": false
   },
   "outputs": [],
   "source": [
    "import numpy as np\n",
    "\n",
    "import matplotlib.pyplot as plt\n",
    "\n",
    "from sklearn.datasets import make_classification\n",
    "from sklearn.linear_model import LogisticRegression\n",
    "from sklearn.ensemble import (RandomTreesEmbedding, RandomForestClassifier,\n",
    "                              GradientBoostingClassifier)\n",
    "from sklearn.preprocessing import OneHotEncoder\n",
    "from sklearn.cross_validation import train_test_split\n",
    "from sklearn.metrics import roc_curve\n",
    "from sklearn.pipeline import make_pipeline\n",
    "from sklearn.cross_validation import StratifiedKFold\n",
    "\n",
    "%matplotlib inline\n",
    "plt.rcParams['figure.figsize'] =  (17.0, 4.0) #Default (6.0, 4.0)"
   ]
  },
  {
   "cell_type": "code",
   "execution_count": 2,
   "metadata": {
    "collapsed": true
   },
   "outputs": [],
   "source": [
    "# TODO\n",
    "# (0) Select the best [N, 2N] data points. At least N and then remaining N if they are above the FPR_TARGET level\n",
    "# (1) Incorporate into the general framework\n",
    "# (2) Combine model predictions for ensemble / voting framework\n",
    "# (3) Personal models"
   ]
  },
  {
   "cell_type": "code",
   "execution_count": 3,
   "metadata": {
    "collapsed": false
   },
   "outputs": [],
   "source": [
    "# ----------------------------------------------------\n",
    "# Get data\n",
    "# ----------------------------------------------------\n",
    "np.random.seed(15)\n",
    "X, y = make_classification(n_samples=10000, n_features=30, n_informative=20) #80000\n",
    "X_train, X_test, y_train, y_test = train_test_split(X, y, test_size=0.1) # test is only to be used at the very end!"
   ]
  },
  {
   "cell_type": "code",
   "execution_count": 4,
   "metadata": {
    "collapsed": true
   },
   "outputs": [],
   "source": [
    "# ----------------------------------------------------\n",
    "# User defined\n",
    "# ----------------------------------------------------\n",
    "FPR_TARGET = 0.02\n",
    "N_FOLDS = 5\n",
    "N_PLAYERS = 17"
   ]
  },
  {
   "cell_type": "code",
   "execution_count": 5,
   "metadata": {
    "collapsed": false
   },
   "outputs": [],
   "source": [
    "# ----------------------------------------------------\n",
    "# Result objects\n",
    "# ----------------------------------------------------\n",
    "roc_results = {} # NAME: [FPR-stats, TPR-stats]\n",
    "fpr_results = {} # NAME: [matrix of FPR-stats]\n",
    "thresh_min_results = {} # NAME: thresh_min\n",
    "fpr_lb_results = {} # NAME: fpr_lb array"
   ]
  },
  {
   "cell_type": "code",
   "execution_count": null,
   "metadata": {
    "collapsed": true
   },
   "outputs": [],
   "source": []
  },
  {
   "cell_type": "code",
   "execution_count": 6,
   "metadata": {
    "collapsed": true
   },
   "outputs": [],
   "source": [
    "# ----------------------------------------------------\n",
    "# Helper functions\n",
    "# ----------------------------------------------------\n",
    "\n",
    "# Interpolate FPR and TPR over thresh_standard\n",
    "def roc_curve_interp(y_test_in, y_pred_in, thresh_standard):\n",
    "    fpr, tpr, thresh = roc_curve(y_test_in, y_pred_in)\n",
    "    fpr_interp = np.interp(thresh_standard, thresh, fpr, period=360)\n",
    "    tpr_interp = np.interp(thresh_standard, thresh, tpr, period=360)\n",
    "    return fpr_interp, tpr_interp\n",
    "\n",
    "# Add FPR and TPR to result dicts\n",
    "def add_to_results(fpr, tpr, name, roc_results, fpr_results):\n",
    "    roc_results[name] = [fpr, tpr]\n",
    "    if not(name in fpr_results.keys()): fpr_results[name] = fpr\n",
    "    else: fpr_results[name] = np.vstack([fpr_results[name], fpr])\n",
    "    return roc_results, fpr_results\n",
    "\n",
    "# Get the minimum threshold for a particular classifier that we need in order to reach the FPR_TARGET\n",
    "def get_thresh_min(name, fpr_results, thresh_standard):\n",
    "    fpr_mean = np.mean(fpr_results.get(name), axis=0)\n",
    "    fpr_var  = np.std(fpr_results.get(name), axis=0)\n",
    "    fpr_lb   = fpr_mean + 1.96*fpr_var                     # fpr lower bound CI\n",
    "    thresh_min = min(thresh_standard[fpr_lb < FPR_TARGET]) # minimum threshold required to achieve FPR_TARGET\n",
    "    return [thresh_min, fpr_lb]\n",
    "\n",
    "# Indexes of N max elements of a list\n",
    "def get_N_max_idx(arr, N):\n",
    "    return arr.argsort()[-N:][::-1]\n",
    "\n",
    "# Closest index to val in arr\n",
    "def closest_index(arr, val):\n",
    "    return min(range(len(arr)), key=lambda i: abs(arr[i]-val))\n"
   ]
  },
  {
   "cell_type": "code",
   "execution_count": 7,
   "metadata": {
    "collapsed": false
   },
   "outputs": [],
   "source": [
    "# ----------------------------------------------------\n",
    "# Classification models (not interpretable)\n",
    "# ----------------------------------------------------\n",
    "def classification_models(y_train_cv, X_train_cv, y_test_cv, X_test_cv, \n",
    "                          roc_results, fpr_results, thresh_standard, TORECORD):\n",
    "    # for random classifiers\n",
    "    n_estimator = 11 # TODO: can be tuned using CV. When we want to optimize\n",
    "    \n",
    "    # for results\n",
    "    y_pred_results = {}\n",
    "\n",
    "    # It is important to train the ensemble of trees on a different subset\n",
    "    # of the training data than the linear regression model to avoid\n",
    "    # overfitting, in particular if the total number of leaves is\n",
    "    # similar to the number of training samples\n",
    "    X_train_cv_small, X_train_lr, y_train_cv_small, y_train_lr = train_test_split(X_train_cv,\n",
    "                                                                                  y_train_cv,\n",
    "                                                                                  test_size=0.5)\n",
    "\n",
    "    # Unsupervised transformation based on totally random trees\n",
    "    rt = RandomTreesEmbedding(max_depth=3, n_estimators=n_estimator,random_state=0)\n",
    "\n",
    "    rt_lm = LogisticRegression()\n",
    "    pipeline = make_pipeline(rt, rt_lm)\n",
    "    pipeline.fit(X_train_cv_small, y_train_cv_small)\n",
    "    y_pred_rt = pipeline.predict_proba(X_test_cv)[:, 1]\n",
    "    y_pred_results['RT + LR'] = y_pred_rt\n",
    "    if TORECORD:\n",
    "        fpr_rt_lm, tpr_rt_lm = roc_curve_interp(y_test_cv, y_pred_rt, thresh_standard)\n",
    "        roc_results, fpr_results = add_to_results(fpr_rt_lm, tpr_rt_lm, 'RT + LR', roc_results, fpr_results)\n",
    "\n",
    "    # Supervised transformation based on random forests\n",
    "    rf = RandomForestClassifier(max_depth=3, n_estimators=n_estimator)\n",
    "    rf_enc = OneHotEncoder()\n",
    "    rf_lm = LogisticRegression()\n",
    "    rf.fit(X_train_cv_small, y_train_cv_small)\n",
    "    rf_enc.fit(rf.apply(X_train_cv_small))\n",
    "    rf_lm.fit(rf_enc.transform(rf.apply(X_train_lr)), y_train_lr)\n",
    "\n",
    "    y_pred_rf_lm = rf_lm.predict_proba(rf_enc.transform(rf.apply(X_test_cv)))[:, 1]\n",
    "    y_pred_results['RF + LR'] = y_pred_rf_lm\n",
    "    if TORECORD:\n",
    "        fpr_rf_lm, tpr_rf_lm = roc_curve_interp(y_test_cv, y_pred_rf_lm, thresh_standard)\n",
    "        roc_results, fpr_results = add_to_results(fpr_rf_lm, tpr_rf_lm, 'RF + LR', roc_results, fpr_results)\n",
    "\n",
    "\n",
    "    # Supervised transformation based on gradient boosting\n",
    "    grd = GradientBoostingClassifier(n_estimators=n_estimator)\n",
    "    grd_enc = OneHotEncoder()\n",
    "    grd_lm = LogisticRegression()\n",
    "    grd.fit(X_train_cv_small, y_train_cv_small)\n",
    "    grd_enc.fit(grd.apply(X_train_cv_small)[:, :, 0])\n",
    "    grd_lm.fit(grd_enc.transform(grd.apply(X_train_lr)[:, :, 0]), y_train_lr)\n",
    "\n",
    "    y_pred_grd_lm = grd_lm.predict_proba(\n",
    "        grd_enc.transform(grd.apply(X_test_cv)[:, :, 0]))[:, 1]\n",
    "    y_pred_results['GBT + LR'] = y_pred_grd_lm\n",
    "    if TORECORD:\n",
    "        fpr_grd_lm, tpr_grd_lm = roc_curve_interp(y_test_cv, y_pred_grd_lm, thresh_standard)\n",
    "        roc_results, fpr_results = add_to_results(fpr_grd_lm, tpr_grd_lm, 'GBT + LR', roc_results, fpr_results)\n",
    "\n",
    "    # The gradient boosted model by itself\n",
    "    y_pred_grd = grd.predict_proba(X_test_cv)[:, 1]\n",
    "    y_pred_results['GBT'] = y_pred_grd\n",
    "    if TORECORD:\n",
    "        fpr_grd, tpr_grd = roc_curve_interp(y_test_cv, y_pred_grd, thresh_standard)\n",
    "        roc_results, fpr_results = add_to_results(fpr_grd, tpr_grd, 'GBT', roc_results, fpr_results)\n",
    "\n",
    "    # The random forest model by itself\n",
    "    y_pred_rf = rf.predict_proba(X_test_cv)[:, 1]\n",
    "    y_pred_results['RF'] = y_pred_rf\n",
    "    if TORECORD:\n",
    "        fpr_rf, tpr_rf = roc_curve_interp(y_test_cv, y_pred_rf, thresh_standard)\n",
    "        roc_results, fpr_results = add_to_results(fpr_rf, tpr_rf, 'RF', roc_results, fpr_results)\n",
    "        \n",
    "    return roc_results, fpr_results, y_pred_results"
   ]
  },
  {
   "cell_type": "code",
   "execution_count": 8,
   "metadata": {
    "collapsed": false
   },
   "outputs": [],
   "source": [
    "# ----------------------------------------------------\n",
    "# Learn thresholds for each algorithm with y_train and X_train\n",
    "# ----------------------------------------------------\n",
    "\n",
    "# Run classifier with cross-validation and plot ROC curves\n",
    "cv = StratifiedKFold(y_train, n_folds=N_FOLDS)\n",
    "\n",
    "# Standard intervals for probability threshold\n",
    "thresh_standard = np.linspace(1.0, 0.0, 1001)\n",
    "\n",
    "# \n",
    "for idx_cv, (idx_train, idx_test) in enumerate(cv):\n",
    "    y_train_cv = y_train[idx_train]\n",
    "    X_train_cv = X_train[idx_train]\n",
    "    y_test_cv  = y_train[idx_test]\n",
    "    X_test_cv  = X_train[idx_test]\n",
    "    \n",
    "    roc_results, fpr_results, _ = classification_models(y_train_cv, X_train_cv, y_test_cv, X_test_cv, \n",
    "                                                      roc_results, fpr_results, thresh_standard, True)\n",
    "\n",
    "# Get thresholds for each algorithm\n",
    "for key in fpr_results.keys():\n",
    "    thresh_min_results[key], fpr_lb_results[key] = get_thresh_min(key, fpr_results, thresh_standard)\n"
   ]
  },
  {
   "cell_type": "code",
   "execution_count": 9,
   "metadata": {
    "collapsed": false
   },
   "outputs": [],
   "source": [
    "# Simple emsemble that takes the product of the LB probabilites\n",
    "def simple_ensemble(y_preds, fpr_lb_results):\n",
    "    #init\n",
    "    n_pred = len(y_preds.get(y_preds.keys()[0]))\n",
    "    emsemble_pred = np.ones(n_pred)\n",
    "    # P = \\prod LB_i\n",
    "    for key in thresh_min_results.keys():\n",
    "        pred_curr = y_preds.get(key)\n",
    "        fpr_curr  = fpr_lb_results.get(key)\n",
    "        for ii in range(0,n_pred):\n",
    "            emsemble_pred[ii] *= (1-fpr_curr[closest_index(thresh_standard, pred_curr[ii])])\n",
    "    # store\n",
    "    y_preds['Simple Emsemble'] = emsemble_pred\n",
    "    return y_preds"
   ]
  },
  {
   "cell_type": "code",
   "execution_count": 10,
   "metadata": {
    "collapsed": false
   },
   "outputs": [],
   "source": [
    "# ----------------------------------------------------\n",
    "# Save models\n",
    "# ----------------------------------------------------\n",
    "\n",
    "# TODO\n"
   ]
  },
  {
   "cell_type": "code",
   "execution_count": 11,
   "metadata": {
    "collapsed": false
   },
   "outputs": [
    {
     "name": "stdout",
     "output_type": "stream",
     "text": [
      "RF + LR\n",
      "Accuracy: 0.995412844037 Number:  218\n",
      "GBT + LR\n",
      "Accuracy: 0.974358974359 Number:  234\n",
      "RT + LR\n",
      "Accuracy: 0.884615384615 Number:  52\n",
      "RF\n",
      "Accuracy: 0.984615384615 Number:  130\n",
      "GBT\n",
      "Accuracy: 0.992537313433 Number:  134\n",
      "\n",
      "\n",
      "Picking the 17 most probable players\n",
      "GBT\n",
      "Accuracy: 1.0\n",
      "RF + LR\n",
      "Accuracy: 1.0\n",
      "RF\n",
      "Accuracy: 1.0\n",
      "GBT + LR\n",
      "Accuracy: 1.0\n",
      "RT + LR\n",
      "Accuracy: 0.882352941176\n",
      "Simple Emsemble\n",
      "Accuracy: 1.0\n"
     ]
    }
   ],
   "source": [
    "# ----------------------------------------------------\n",
    "# Test models to predict 1's correctly. \n",
    "# Objective is to obtain the FPR_TARGET in the test data.\n",
    "# We also still want to actually make some predictions.\n",
    "# ----------------------------------------------------\n",
    "\n",
    "# Train with all training data and predict on testing data\n",
    "_, _, y_preds = classification_models(y_train, X_train, y_test, X_test, \n",
    "                                                      [], [], thresh_standard, False)\n",
    "# Show good prediction accuracy\n",
    "for key in thresh_min_results.keys():\n",
    "    preds = y_test[y_preds.get(key) > thresh_min_results.get(key)]\n",
    "    print key\n",
    "    if len(preds) == 0: print 'no predictions :('\n",
    "    else: print 'Accuracy:', np.mean(preds), 'Number: ', len(preds)         \n",
    "print '\\n'\n",
    "\n",
    "\n",
    "\n",
    "# Emsemble of classifiers\n",
    "y_preds = simple_ensemble(y_preds, fpr_lb_results)\n",
    "\n",
    "# Print accuracy of N_PLAYERS most probable (can also extract indexes from here)\n",
    "print 'Picking the',N_PLAYERS,'most probable players'\n",
    "for key in y_preds.keys():\n",
    "    max_idx = get_N_max_idx(y_preds.get(key), N_PLAYERS)\n",
    "    preds = y_test[max_idx]\n",
    "    print key\n",
    "    if len(preds) == 0: print 'no predictions :('\n",
    "    else: print 'Accuracy:', np.mean(preds)\n"
   ]
  },
  {
   "cell_type": "code",
   "execution_count": null,
   "metadata": {
    "collapsed": false
   },
   "outputs": [],
   "source": [
    "# ----------------------------------------------------\n",
    "# Plot ROC for 1 CV\n",
    "# ----------------------------------------------------\n",
    "\n",
    "plt.figure(1)\n",
    "plt.plot([0, 1], [0, 1], 'k--')\n",
    "for key in roc_results.keys():\n",
    "    plt.plot(roc_results.get(key)[0], roc_results.get(key)[1], label=key)\n",
    "plt.xlabel('False positive rate')\n",
    "plt.ylabel('True positive rate')\n",
    "plt.title('ROC curve')\n",
    "plt.legend(loc='best')\n",
    "plt.show()\n",
    "\n",
    "\n",
    "plt.figure(2)\n",
    "plt.xlim(0, 0.1)\n",
    "plt.ylim(0, 1)\n",
    "plt.plot([0, 1], [0, 1], 'k--')\n",
    "for key in roc_results.keys():\n",
    "    plt.plot(roc_results.get(key)[0], roc_results.get(key)[1], label=key)\n",
    "plt.xlabel('False positive rate')\n",
    "plt.ylabel('True positive rate')\n",
    "plt.title('ROC curve (zoomed in at top left)')\n",
    "plt.legend(loc='best')\n",
    "plt.show()"
   ]
  },
  {
   "cell_type": "code",
   "execution_count": null,
   "metadata": {
    "collapsed": true
   },
   "outputs": [],
   "source": []
  },
  {
   "cell_type": "code",
   "execution_count": null,
   "metadata": {
    "collapsed": true
   },
   "outputs": [],
   "source": []
  }
 ],
 "metadata": {
  "kernelspec": {
   "display_name": "Python 2",
   "language": "python",
   "name": "python2"
  },
  "language_info": {
   "codemirror_mode": {
    "name": "ipython",
    "version": 2
   },
   "file_extension": ".py",
   "mimetype": "text/x-python",
   "name": "python",
   "nbconvert_exporter": "python",
   "pygments_lexer": "ipython2",
   "version": "2.7.11"
  }
 },
 "nbformat": 4,
 "nbformat_minor": 0
}
